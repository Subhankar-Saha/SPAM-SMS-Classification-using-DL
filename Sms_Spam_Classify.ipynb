{
  "nbformat": 4,
  "nbformat_minor": 0,
  "metadata": {
    "colab": {
      "name": "Sms_Spam.ipynb",
      "provenance": [],
      "collapsed_sections": [],
      "toc_visible": true
    },
    "kernelspec": {
      "name": "python3",
      "display_name": "Python 3"
    }
  },
  "cells": [
    {
      "cell_type": "markdown",
      "metadata": {
        "id": "L5WK_eCKZyq0",
        "colab_type": "text"
      },
      "source": [
        "**Import Library**"
      ]
    },
    {
      "cell_type": "code",
      "metadata": {
        "id": "i6w2uKdA76gd",
        "colab_type": "code",
        "outputId": "aff469f0-e0c6-4b49-dcdc-600e851a249f",
        "colab": {
          "base_uri": "https://localhost:8080/",
          "height": 34
        }
      },
      "source": [
        "from keras.preprocessing.sequence import pad_sequences\n",
        "from keras.layers import Embedding, LSTM, Dense, Dropout,GRU , Flatten,Input,Activation\n",
        "from keras.preprocessing.text import Tokenizer\n",
        "import pandas as pd\n",
        "import numpy as np \n",
        "import keras.utils as ku\n",
        "from keras.models import Sequential\n",
        "from sklearn.model_selection import train_test_split"
      ],
      "execution_count": 1,
      "outputs": [
        {
          "output_type": "stream",
          "text": [
            "Using TensorFlow backend.\n"
          ],
          "name": "stderr"
        }
      ]
    },
    {
      "cell_type": "code",
      "metadata": {
        "id": "6C88SjITdioo",
        "colab_type": "code",
        "colab": {}
      },
      "source": [
        "#pip install -U keras\n",
        "#pip install --upgrade gensim"
      ],
      "execution_count": 0,
      "outputs": []
    },
    {
      "cell_type": "markdown",
      "metadata": {
        "id": "Fw_AVukRaNoR",
        "colab_type": "text"
      },
      "source": [
        "**Import Dataframe**"
      ]
    },
    {
      "cell_type": "code",
      "metadata": {
        "id": "Ij8Z6B9_8VJv",
        "colab_type": "code",
        "colab": {}
      },
      "source": [
        "df= pd.read_csv(\"SMSSpam.csv\",sep='\\t',header=None, error_bad_lines=False)"
      ],
      "execution_count": 0,
      "outputs": []
    },
    {
      "cell_type": "code",
      "metadata": {
        "id": "Q-fpgPvO853L",
        "colab_type": "code",
        "outputId": "8d88ab7f-c7d8-4a47-d744-ec6a97767a26",
        "colab": {
          "base_uri": "https://localhost:8080/",
          "height": 402
        }
      },
      "source": [
        " # Rename Header\n",
        "\n",
        "df = df.rename(  columns={0: \"label\", 1: \"msg\"})   \n",
        "df"
      ],
      "execution_count": 4,
      "outputs": [
        {
          "output_type": "execute_result",
          "data": {
            "text/html": [
              "<div>\n",
              "<style scoped>\n",
              "    .dataframe tbody tr th:only-of-type {\n",
              "        vertical-align: middle;\n",
              "    }\n",
              "\n",
              "    .dataframe tbody tr th {\n",
              "        vertical-align: top;\n",
              "    }\n",
              "\n",
              "    .dataframe thead th {\n",
              "        text-align: right;\n",
              "    }\n",
              "</style>\n",
              "<table border=\"1\" class=\"dataframe\">\n",
              "  <thead>\n",
              "    <tr style=\"text-align: right;\">\n",
              "      <th></th>\n",
              "      <th>label</th>\n",
              "      <th>msg</th>\n",
              "    </tr>\n",
              "  </thead>\n",
              "  <tbody>\n",
              "    <tr>\n",
              "      <th>0</th>\n",
              "      <td>ham</td>\n",
              "      <td>Go until jurong point, crazy.. Available only ...</td>\n",
              "    </tr>\n",
              "    <tr>\n",
              "      <th>1</th>\n",
              "      <td>ham</td>\n",
              "      <td>Ok lar... Joking wif u oni...</td>\n",
              "    </tr>\n",
              "    <tr>\n",
              "      <th>2</th>\n",
              "      <td>spam</td>\n",
              "      <td>Free entry in 2 a wkly comp to win FA Cup fina...</td>\n",
              "    </tr>\n",
              "    <tr>\n",
              "      <th>3</th>\n",
              "      <td>ham</td>\n",
              "      <td>U dun say so early hor... U c already then say...</td>\n",
              "    </tr>\n",
              "    <tr>\n",
              "      <th>4</th>\n",
              "      <td>ham</td>\n",
              "      <td>Nah I don't think he goes to usf, he lives aro...</td>\n",
              "    </tr>\n",
              "    <tr>\n",
              "      <th>...</th>\n",
              "      <td>...</td>\n",
              "      <td>...</td>\n",
              "    </tr>\n",
              "    <tr>\n",
              "      <th>5567</th>\n",
              "      <td>spam</td>\n",
              "      <td>This is the 2nd time we have tried 2 contact u...</td>\n",
              "    </tr>\n",
              "    <tr>\n",
              "      <th>5568</th>\n",
              "      <td>ham</td>\n",
              "      <td>Will ü b going to esplanade fr home?</td>\n",
              "    </tr>\n",
              "    <tr>\n",
              "      <th>5569</th>\n",
              "      <td>ham</td>\n",
              "      <td>Pity, * was in mood for that. So...any other s...</td>\n",
              "    </tr>\n",
              "    <tr>\n",
              "      <th>5570</th>\n",
              "      <td>ham</td>\n",
              "      <td>The guy did some bitching but I acted like i'd...</td>\n",
              "    </tr>\n",
              "    <tr>\n",
              "      <th>5571</th>\n",
              "      <td>ham</td>\n",
              "      <td>Rofl. Its true to its name</td>\n",
              "    </tr>\n",
              "  </tbody>\n",
              "</table>\n",
              "<p>5572 rows × 2 columns</p>\n",
              "</div>"
            ],
            "text/plain": [
              "     label                                                msg\n",
              "0      ham  Go until jurong point, crazy.. Available only ...\n",
              "1      ham                      Ok lar... Joking wif u oni...\n",
              "2     spam  Free entry in 2 a wkly comp to win FA Cup fina...\n",
              "3      ham  U dun say so early hor... U c already then say...\n",
              "4      ham  Nah I don't think he goes to usf, he lives aro...\n",
              "...    ...                                                ...\n",
              "5567  spam  This is the 2nd time we have tried 2 contact u...\n",
              "5568   ham               Will ü b going to esplanade fr home?\n",
              "5569   ham  Pity, * was in mood for that. So...any other s...\n",
              "5570   ham  The guy did some bitching but I acted like i'd...\n",
              "5571   ham                         Rofl. Its true to its name\n",
              "\n",
              "[5572 rows x 2 columns]"
            ]
          },
          "metadata": {
            "tags": []
          },
          "execution_count": 4
        }
      ]
    },
    {
      "cell_type": "code",
      "metadata": {
        "id": "cK22hTd7-i84",
        "colab_type": "code",
        "outputId": "e901160a-e64c-4a06-d2bf-80aa00bf980e",
        "colab": {
          "base_uri": "https://localhost:8080/",
          "height": 168
        }
      },
      "source": [
        "df.info()"
      ],
      "execution_count": 5,
      "outputs": [
        {
          "output_type": "stream",
          "text": [
            "<class 'pandas.core.frame.DataFrame'>\n",
            "RangeIndex: 5572 entries, 0 to 5571\n",
            "Data columns (total 2 columns):\n",
            " #   Column  Non-Null Count  Dtype \n",
            "---  ------  --------------  ----- \n",
            " 0   label   5572 non-null   object\n",
            " 1   msg     5572 non-null   object\n",
            "dtypes: object(2)\n",
            "memory usage: 87.2+ KB\n"
          ],
          "name": "stdout"
        }
      ]
    },
    {
      "cell_type": "code",
      "metadata": {
        "id": "jORfhhIXAodn",
        "colab_type": "code",
        "colab": {}
      },
      "source": [
        "df[\"label\"] = df[\"label\"].astype('category')"
      ],
      "execution_count": 0,
      "outputs": []
    },
    {
      "cell_type": "code",
      "metadata": {
        "id": "QwpT9ukFByht",
        "colab_type": "code",
        "colab": {}
      },
      "source": [
        "df[\"label\"] = df[\"label\"].cat.codes"
      ],
      "execution_count": 0,
      "outputs": []
    },
    {
      "cell_type": "code",
      "metadata": {
        "id": "_7BS2MpxD59a",
        "colab_type": "code",
        "outputId": "0d4b6842-002c-4970-a450-083d343195c7",
        "colab": {
          "base_uri": "https://localhost:8080/",
          "height": 195
        }
      },
      "source": [
        "df.head()"
      ],
      "execution_count": 8,
      "outputs": [
        {
          "output_type": "execute_result",
          "data": {
            "text/html": [
              "<div>\n",
              "<style scoped>\n",
              "    .dataframe tbody tr th:only-of-type {\n",
              "        vertical-align: middle;\n",
              "    }\n",
              "\n",
              "    .dataframe tbody tr th {\n",
              "        vertical-align: top;\n",
              "    }\n",
              "\n",
              "    .dataframe thead th {\n",
              "        text-align: right;\n",
              "    }\n",
              "</style>\n",
              "<table border=\"1\" class=\"dataframe\">\n",
              "  <thead>\n",
              "    <tr style=\"text-align: right;\">\n",
              "      <th></th>\n",
              "      <th>label</th>\n",
              "      <th>msg</th>\n",
              "    </tr>\n",
              "  </thead>\n",
              "  <tbody>\n",
              "    <tr>\n",
              "      <th>0</th>\n",
              "      <td>0</td>\n",
              "      <td>Go until jurong point, crazy.. Available only ...</td>\n",
              "    </tr>\n",
              "    <tr>\n",
              "      <th>1</th>\n",
              "      <td>0</td>\n",
              "      <td>Ok lar... Joking wif u oni...</td>\n",
              "    </tr>\n",
              "    <tr>\n",
              "      <th>2</th>\n",
              "      <td>1</td>\n",
              "      <td>Free entry in 2 a wkly comp to win FA Cup fina...</td>\n",
              "    </tr>\n",
              "    <tr>\n",
              "      <th>3</th>\n",
              "      <td>0</td>\n",
              "      <td>U dun say so early hor... U c already then say...</td>\n",
              "    </tr>\n",
              "    <tr>\n",
              "      <th>4</th>\n",
              "      <td>0</td>\n",
              "      <td>Nah I don't think he goes to usf, he lives aro...</td>\n",
              "    </tr>\n",
              "  </tbody>\n",
              "</table>\n",
              "</div>"
            ],
            "text/plain": [
              "   label                                                msg\n",
              "0      0  Go until jurong point, crazy.. Available only ...\n",
              "1      0                      Ok lar... Joking wif u oni...\n",
              "2      1  Free entry in 2 a wkly comp to win FA Cup fina...\n",
              "3      0  U dun say so early hor... U c already then say...\n",
              "4      0  Nah I don't think he goes to usf, he lives aro..."
            ]
          },
          "metadata": {
            "tags": []
          },
          "execution_count": 8
        }
      ]
    },
    {
      "cell_type": "markdown",
      "metadata": {
        "id": "PhAbTX6Aadzc",
        "colab_type": "text"
      },
      "source": [
        "**Text Cleaning Function**"
      ]
    },
    {
      "cell_type": "code",
      "metadata": {
        "id": "8CpXSZYNETuX",
        "colab_type": "code",
        "colab": {}
      },
      "source": [
        "import string, os\n",
        "def clean_text(txt):\n",
        "    txt = \"\".join(v for v in txt if v not in string.punctuation).lower()\n",
        "    txt = txt.encode(\"utf8\").decode(\"ascii\",'ignore')\n",
        "    return txt"
      ],
      "execution_count": 0,
      "outputs": []
    },
    {
      "cell_type": "code",
      "metadata": {
        "id": "T3A2JUdjFwJp",
        "colab_type": "code",
        "colab": {}
      },
      "source": [
        "msg_list = list(df.msg.values)\n",
        "corpus = [clean_text(x) for x in msg_list]"
      ],
      "execution_count": 0,
      "outputs": []
    },
    {
      "cell_type": "code",
      "metadata": {
        "id": "J5zE8fYYH_z-",
        "colab_type": "code",
        "outputId": "f537c09a-57f1-4d00-a294-3425407e7369",
        "colab": {
          "base_uri": "https://localhost:8080/",
          "height": 121
        }
      },
      "source": [
        "corpus[:5]"
      ],
      "execution_count": 11,
      "outputs": [
        {
          "output_type": "execute_result",
          "data": {
            "text/plain": [
              "['go until jurong point crazy available only in bugis n great world la e buffet cine there got amore wat',\n",
              " 'ok lar joking wif u oni',\n",
              " 'free entry in 2 a wkly comp to win fa cup final tkts 21st may 2005 text fa to 87121 to receive entry questionstd txt ratetcs apply 08452810075over18s',\n",
              " 'u dun say so early hor u c already then say',\n",
              " 'nah i dont think he goes to usf he lives around here though']"
            ]
          },
          "metadata": {
            "tags": []
          },
          "execution_count": 11
        }
      ]
    },
    {
      "cell_type": "code",
      "metadata": {
        "id": "nrpPX1J7IBuT",
        "colab_type": "code",
        "outputId": "2d84eb66-127c-4c11-d478-adcebfe2aa46",
        "colab": {
          "base_uri": "https://localhost:8080/",
          "height": 34
        }
      },
      "source": [
        "#Tokenizaton\n",
        "\n",
        "token = []\n",
        "for i in corpus:\n",
        "  token.append(i.split(\" \"))\n",
        "len(token)"
      ],
      "execution_count": 12,
      "outputs": [
        {
          "output_type": "execute_result",
          "data": {
            "text/plain": [
              "5572"
            ]
          },
          "metadata": {
            "tags": []
          },
          "execution_count": 12
        }
      ]
    },
    {
      "cell_type": "code",
      "metadata": {
        "id": "_WIUxJO1d5pC",
        "colab_type": "code",
        "outputId": "341315f6-94bd-498b-ed83-328eb4677140",
        "colab": {
          "base_uri": "https://localhost:8080/",
          "height": 34
        }
      },
      "source": [
        "# Maximum Length of String\n",
        "\n",
        "max2 = len(max(token, key=len))\n",
        "print(max2)"
      ],
      "execution_count": 13,
      "outputs": [
        {
          "output_type": "stream",
          "text": [
            "171\n"
          ],
          "name": "stdout"
        }
      ]
    },
    {
      "cell_type": "code",
      "metadata": {
        "id": "JXZfdWZOO_Et",
        "colab_type": "code",
        "colab": {}
      },
      "source": [
        "# padding with \"Null\" for same length\n",
        "\n",
        "for i in range(len(token)):\n",
        "  for j in range(len(token[i])):\n",
        "    if len(token[i])<max2:\n",
        "      c = max2-len(token[i])\n",
        "      for k in range(c):\n",
        "        token[i].append(\"Null\")\n"
      ],
      "execution_count": 0,
      "outputs": []
    },
    {
      "cell_type": "markdown",
      "metadata": {
        "id": "208MR9fGaps6",
        "colab_type": "text"
      },
      "source": [
        "**Import Word2Vec Model**"
      ]
    },
    {
      "cell_type": "code",
      "metadata": {
        "id": "pU2nhgSlIU9E",
        "colab_type": "code",
        "colab": {}
      },
      "source": [
        "import gensim \n",
        "from gensim.models import Word2Vec "
      ],
      "execution_count": 0,
      "outputs": []
    },
    {
      "cell_type": "code",
      "metadata": {
        "id": "9D2m2ivPKpoJ",
        "colab_type": "code",
        "colab": {}
      },
      "source": [
        "# 150 Dimension\n",
        "model_vec = Word2Vec(token , size=150)"
      ],
      "execution_count": 0,
      "outputs": []
    },
    {
      "cell_type": "code",
      "metadata": {
        "id": "0vhrHV7qNsp6",
        "colab_type": "code",
        "outputId": "b043a183-f68e-483c-ff60-f46118e1429c",
        "colab": {
          "base_uri": "https://localhost:8080/",
          "height": 34
        }
      },
      "source": [
        "words = list(model_vec.wv.vocab)\n",
        "print(len(words))   # No of Vocab"
      ],
      "execution_count": 17,
      "outputs": [
        {
          "output_type": "stream",
          "text": [
            "1831\n"
          ],
          "name": "stdout"
        }
      ]
    },
    {
      "cell_type": "code",
      "metadata": {
        "id": "ejJdbgQBOLNX",
        "colab_type": "code",
        "colab": {}
      },
      "source": [
        "embed = np.zeros((len(token),max2,150) ,dtype = np.float32)   # Embedded Word Matrix"
      ],
      "execution_count": 0,
      "outputs": []
    },
    {
      "cell_type": "code",
      "metadata": {
        "id": "Npb0DQ53To4L",
        "colab_type": "code",
        "colab": {}
      },
      "source": [
        "for i in range (len(corpus)):\n",
        "  a = corpus[i].split(\" \")\n",
        "  for j in range(len(a)):\n",
        "    try:\n",
        "      embed[i,j] = model_vec.wv[a[j]]\n",
        "    except (KeyError):\n",
        "      embed[i,j] = model_vec.wv['Null']\n",
        "      pass\n",
        "    "
      ],
      "execution_count": 0,
      "outputs": []
    },
    {
      "cell_type": "code",
      "metadata": {
        "id": "IBRqq2-5XA1p",
        "colab_type": "code",
        "outputId": "506e3ba2-9fe8-4e69-b4f6-40ca05ea70cd",
        "colab": {
          "base_uri": "https://localhost:8080/",
          "height": 538
        }
      },
      "source": [
        "model_vec.wv['Null']"
      ],
      "execution_count": 20,
      "outputs": [
        {
          "output_type": "execute_result",
          "data": {
            "text/plain": [
              "array([ 0.19803025, -0.04943343, -0.11577769, -0.49531892, -0.74189734,\n",
              "        1.1401322 ,  0.78172415, -1.0760581 , -0.74337864, -0.18599454,\n",
              "        0.21727067, -0.83854115,  0.18502688,  0.04029225,  0.25940868,\n",
              "        0.15489292, -0.21173953, -0.4675542 , -0.49507388, -0.89451367,\n",
              "        0.39394048,  0.57299936, -0.15609244,  0.49786124,  0.7967522 ,\n",
              "        0.2826063 , -0.07513314,  0.8214669 , -0.37990174,  0.13561407,\n",
              "        0.39489883, -0.8111563 , -1.3008857 , -1.3321834 ,  1.9850266 ,\n",
              "        0.34333277, -0.12024029,  0.01970369, -0.8838773 ,  0.67437106,\n",
              "        0.8209392 ,  0.6365548 , -1.9486494 ,  0.35969758,  0.50224406,\n",
              "        0.8282766 , -0.2811917 ,  0.30898067,  0.97236764, -0.36320263,\n",
              "       -1.8477103 , -0.51760256,  0.0196229 ,  2.082526  , -1.4711035 ,\n",
              "       -0.68388146,  0.59958476, -0.79380107,  0.12357409, -1.0096859 ,\n",
              "       -0.136771  ,  1.7882782 , -1.1662852 ,  1.1101652 , -2.4116282 ,\n",
              "        0.9214607 ,  1.4276282 , -2.296773  , -1.1139022 ,  0.62321705,\n",
              "        1.7545488 ,  0.83431774, -0.7432654 , -0.84711164, -0.21249099,\n",
              "        0.3085909 , -0.45535502,  2.537558  ,  0.54213107, -0.13253754,\n",
              "       -0.41312888, -0.3834369 ,  0.85482365,  1.0632769 , -0.8653287 ,\n",
              "        0.33452174,  0.64734197,  0.74961877, -0.00719186, -0.00856445,\n",
              "       -1.1234547 , -0.67557776, -1.2499199 ,  1.5425069 , -1.3596743 ,\n",
              "        0.53008604,  0.9199374 ,  1.5051066 , -1.7411135 , -1.2343401 ,\n",
              "        1.9060886 ,  1.9448117 ,  1.7313284 ,  1.0396656 , -1.4599894 ,\n",
              "        1.2514207 ,  2.2922568 , -0.16525958,  1.4342117 , -0.2162039 ,\n",
              "        0.6032066 ,  2.069957  , -1.8203793 , -1.2450622 , -0.45795882,\n",
              "       -0.3858688 ,  0.0618503 , -3.0212677 , -1.5357723 , -0.98698574,\n",
              "       -0.9502232 ,  0.6290649 , -1.2464075 ,  2.138299  ,  0.6274268 ,\n",
              "        0.13007583, -0.04072176,  0.33655387, -1.0242766 , -0.1453007 ,\n",
              "       -0.56622845,  0.14870067,  0.7796163 ,  2.1851466 , -1.822247  ,\n",
              "        2.6882896 , -0.5600928 , -2.2755725 , -0.4294662 ,  1.2410479 ,\n",
              "        1.344251  , -1.188757  ,  0.3273576 , -1.8859332 ,  2.4646928 ,\n",
              "       -1.4462379 , -1.7394776 , -1.2427506 ,  1.1617754 , -1.1102275 ],\n",
              "      dtype=float32)"
            ]
          },
          "metadata": {
            "tags": []
          },
          "execution_count": 20
        }
      ]
    },
    {
      "cell_type": "code",
      "metadata": {
        "id": "GI0z2MsMZP9D",
        "colab_type": "code",
        "colab": {}
      },
      "source": [
        "y = df.label.values\n",
        "y = y.reshape(-1,1)\n",
        "\n",
        "x_train, x_test, y_train, y_test = train_test_split(embed, y, test_size=0.30, random_state=42)"
      ],
      "execution_count": 0,
      "outputs": []
    },
    {
      "cell_type": "code",
      "metadata": {
        "id": "i5JpV6YPg4Ft",
        "colab_type": "code",
        "outputId": "1d424b7b-8dcc-4cbc-9bb1-fa07edd83d6b",
        "colab": {
          "base_uri": "https://localhost:8080/",
          "height": 34
        }
      },
      "source": [
        "x_train[0].shape"
      ],
      "execution_count": 22,
      "outputs": [
        {
          "output_type": "execute_result",
          "data": {
            "text/plain": [
              "(171, 150)"
            ]
          },
          "metadata": {
            "tags": []
          },
          "execution_count": 22
        }
      ]
    },
    {
      "cell_type": "code",
      "metadata": {
        "id": "ayUpwdTnhSX8",
        "colab_type": "code",
        "outputId": "a5925e4d-fad6-477c-a51f-7c3de17b3d48",
        "colab": {
          "base_uri": "https://localhost:8080/",
          "height": 34
        }
      },
      "source": [
        "embed.shape"
      ],
      "execution_count": 23,
      "outputs": [
        {
          "output_type": "execute_result",
          "data": {
            "text/plain": [
              "(5572, 171, 150)"
            ]
          },
          "metadata": {
            "tags": []
          },
          "execution_count": 23
        }
      ]
    },
    {
      "cell_type": "markdown",
      "metadata": {
        "id": "q1XXHMx9bBtY",
        "colab_type": "text"
      },
      "source": [
        "**Apply Model**"
      ]
    },
    {
      "cell_type": "code",
      "metadata": {
        "id": "4jEeJ5yihcIJ",
        "colab_type": "code",
        "colab": {}
      },
      "source": [
        "model = Sequential()\n",
        "model.add(LSTM(150 ,return_sequences=True , dropout = 0.3))   \n",
        "model.add(Dense(units=len(words)))\n",
        "model.add(LSTM(64, dropout = 0.2))\n",
        "model.add(Dense(32))\n",
        "model.add(Dense(1,activation='sigmoid'))"
      ],
      "execution_count": 0,
      "outputs": []
    },
    {
      "cell_type": "code",
      "metadata": {
        "id": "62c0EEegh0jL",
        "colab_type": "code",
        "colab": {}
      },
      "source": [
        "model.compile(loss='binary_crossentropy', optimizer='adam', metrics=['accuracy'])"
      ],
      "execution_count": 0,
      "outputs": []
    },
    {
      "cell_type": "code",
      "metadata": {
        "id": "wigAre1WitTL",
        "colab_type": "code",
        "outputId": "8b0d42f7-26c7-4e6c-f471-0d8c059c2b1a",
        "colab": {
          "base_uri": "https://localhost:8080/",
          "height": 554
        }
      },
      "source": [
        "model.fit(x_train, y_train,epochs=15,validation_data=(x_test, y_test) ,verbose=1)"
      ],
      "execution_count": 27,
      "outputs": [
        {
          "output_type": "stream",
          "text": [
            "Train on 3900 samples, validate on 1672 samples\n",
            "Epoch 1/15\n",
            "3900/3900 [==============================] - 156s 40ms/step - loss: 0.4088 - accuracy: 0.8659 - val_loss: 0.3939 - val_accuracy: 0.8660\n",
            "Epoch 2/15\n",
            "3900/3900 [==============================] - 152s 39ms/step - loss: 0.3956 - accuracy: 0.8659 - val_loss: 0.4059 - val_accuracy: 0.8660\n",
            "Epoch 3/15\n",
            "3900/3900 [==============================] - 150s 39ms/step - loss: 0.3987 - accuracy: 0.8659 - val_loss: 0.3939 - val_accuracy: 0.8660\n",
            "Epoch 4/15\n",
            "3900/3900 [==============================] - 154s 40ms/step - loss: 0.3959 - accuracy: 0.8659 - val_loss: 0.3948 - val_accuracy: 0.8660\n",
            "Epoch 5/15\n",
            "3900/3900 [==============================] - 153s 39ms/step - loss: 0.3958 - accuracy: 0.8659 - val_loss: 0.3940 - val_accuracy: 0.8660\n",
            "Epoch 6/15\n",
            "3900/3900 [==============================] - 150s 38ms/step - loss: 0.3961 - accuracy: 0.8656 - val_loss: 0.3939 - val_accuracy: 0.8660\n",
            "Epoch 7/15\n",
            "3900/3900 [==============================] - 152s 39ms/step - loss: 0.3980 - accuracy: 0.8659 - val_loss: 0.4011 - val_accuracy: 0.8660\n",
            "Epoch 8/15\n",
            "3900/3900 [==============================] - 154s 40ms/step - loss: 0.3945 - accuracy: 0.8659 - val_loss: 0.3972 - val_accuracy: 0.8660\n",
            "Epoch 9/15\n",
            "3900/3900 [==============================] - 154s 39ms/step - loss: 0.3955 - accuracy: 0.8659 - val_loss: 0.3944 - val_accuracy: 0.8660\n",
            "Epoch 10/15\n",
            "3900/3900 [==============================] - 153s 39ms/step - loss: 0.3951 - accuracy: 0.8659 - val_loss: 0.3939 - val_accuracy: 0.8660\n",
            "Epoch 11/15\n",
            "3900/3900 [==============================] - 153s 39ms/step - loss: 0.3950 - accuracy: 0.8659 - val_loss: 0.3957 - val_accuracy: 0.8660\n",
            "Epoch 12/15\n",
            "3900/3900 [==============================] - 150s 38ms/step - loss: 0.3961 - accuracy: 0.8659 - val_loss: 0.3953 - val_accuracy: 0.8660\n",
            "Epoch 13/15\n",
            "3900/3900 [==============================] - 148s 38ms/step - loss: 0.3956 - accuracy: 0.8659 - val_loss: 0.3942 - val_accuracy: 0.8660\n",
            "Epoch 14/15\n",
            "3900/3900 [==============================] - 150s 39ms/step - loss: 0.3947 - accuracy: 0.8659 - val_loss: 0.3944 - val_accuracy: 0.8660\n",
            "Epoch 15/15\n",
            "3900/3900 [==============================] - 148s 38ms/step - loss: 0.3952 - accuracy: 0.8659 - val_loss: 0.3941 - val_accuracy: 0.8660\n"
          ],
          "name": "stdout"
        },
        {
          "output_type": "execute_result",
          "data": {
            "text/plain": [
              "<keras.callbacks.callbacks.History at 0x7f64fb0bd358>"
            ]
          },
          "metadata": {
            "tags": []
          },
          "execution_count": 27
        }
      ]
    },
    {
      "cell_type": "code",
      "metadata": {
        "id": "smWbWsT5iraP",
        "colab_type": "code",
        "outputId": "ef50678b-848b-4e2d-f090-d157cdb99135",
        "colab": {
          "base_uri": "https://localhost:8080/",
          "height": 319
        }
      },
      "source": [
        "model.summary()"
      ],
      "execution_count": 28,
      "outputs": [
        {
          "output_type": "stream",
          "text": [
            "Model: \"sequential_1\"\n",
            "_________________________________________________________________\n",
            "Layer (type)                 Output Shape              Param #   \n",
            "=================================================================\n",
            "lstm_1 (LSTM)                (None, 171, 150)          180600    \n",
            "_________________________________________________________________\n",
            "dense_1 (Dense)              (None, 171, 1831)         276481    \n",
            "_________________________________________________________________\n",
            "lstm_2 (LSTM)                (None, 64)                485376    \n",
            "_________________________________________________________________\n",
            "dense_2 (Dense)              (None, 32)                2080      \n",
            "_________________________________________________________________\n",
            "dense_3 (Dense)              (None, 1)                 33        \n",
            "=================================================================\n",
            "Total params: 944,570\n",
            "Trainable params: 944,570\n",
            "Non-trainable params: 0\n",
            "_________________________________________________________________\n"
          ],
          "name": "stdout"
        }
      ]
    },
    {
      "cell_type": "code",
      "metadata": {
        "id": "BV8dwYWHjBbR",
        "colab_type": "code",
        "outputId": "9c103593-2187-4280-9116-ba60fa9b7f9a",
        "colab": {
          "base_uri": "https://localhost:8080/",
          "height": 67
        }
      },
      "source": [
        "score, acc = model.evaluate(x_test, y_test ,verbose=1)\n",
        "print('Test score:', score)\n",
        "print('Test accuracy:', acc)"
      ],
      "execution_count": 31,
      "outputs": [
        {
          "output_type": "stream",
          "text": [
            "1672/1672 [==============================] - 14s 8ms/step\n",
            "Test score: 0.3941223629924099\n",
            "Test accuracy: 0.8660287261009216\n"
          ],
          "name": "stdout"
        }
      ]
    },
    {
      "cell_type": "markdown",
      "metadata": {
        "id": "pGsqu1g-m_sS",
        "colab_type": "text"
      },
      "source": [
        " **Thank You**"
      ]
    }
  ]
}