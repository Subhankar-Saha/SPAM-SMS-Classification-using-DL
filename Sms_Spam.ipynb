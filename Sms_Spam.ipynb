{
  "nbformat": 4,
  "nbformat_minor": 0,
  "metadata": {
    "colab": {
      "name": "Sms_Spam.ipynb",
      "provenance": [],
      "collapsed_sections": [],
      "toc_visible": true
    },
    "kernelspec": {
      "name": "python3",
      "display_name": "Python 3"
    }
  },
  "cells": [
    {
      "cell_type": "code",
      "metadata": {
        "id": "4FNlLZ1q1XtS",
        "colab_type": "code",
        "outputId": "507412ed-c4b9-42a9-c88a-84ccb16ebc3c",
        "colab": {
          "base_uri": "https://localhost:8080/",
          "height": 151
        }
      },
      "source": [
        "pip install -U keras"
      ],
      "execution_count": 1,
      "outputs": [
        {
          "output_type": "stream",
          "text": [
            "Requirement already up-to-date: keras in /usr/local/lib/python3.6/dist-packages (2.3.1)\n",
            "Requirement already satisfied, skipping upgrade: keras-applications>=1.0.6 in /usr/local/lib/python3.6/dist-packages (from keras) (1.0.8)\n",
            "Requirement already satisfied, skipping upgrade: six>=1.9.0 in /usr/local/lib/python3.6/dist-packages (from keras) (1.12.0)\n",
            "Requirement already satisfied, skipping upgrade: numpy>=1.9.1 in /usr/local/lib/python3.6/dist-packages (from keras) (1.18.2)\n",
            "Requirement already satisfied, skipping upgrade: h5py in /usr/local/lib/python3.6/dist-packages (from keras) (2.10.0)\n",
            "Requirement already satisfied, skipping upgrade: keras-preprocessing>=1.0.5 in /usr/local/lib/python3.6/dist-packages (from keras) (1.1.0)\n",
            "Requirement already satisfied, skipping upgrade: pyyaml in /usr/local/lib/python3.6/dist-packages (from keras) (3.13)\n",
            "Requirement already satisfied, skipping upgrade: scipy>=0.14 in /usr/local/lib/python3.6/dist-packages (from keras) (1.4.1)\n"
          ],
          "name": "stdout"
        }
      ]
    },
    {
      "cell_type": "code",
      "metadata": {
        "id": "i6w2uKdA76gd",
        "colab_type": "code",
        "colab": {
          "base_uri": "https://localhost:8080/",
          "height": 34
        },
        "outputId": "619cc364-240f-415b-be26-d11692ef3834"
      },
      "source": [
        "from keras.preprocessing.sequence import pad_sequences\n",
        "from keras.layers import Embedding, LSTM, Dense, Dropout,GRU , Flatten,Input,Activation\n",
        "from keras.preprocessing.text import Tokenizer\n",
        "import pandas as pd\n",
        "import numpy as np \n",
        "import keras.utils as ku\n",
        "from keras.models import Sequential\n",
        "from sklearn.model_selection import train_test_split"
      ],
      "execution_count": 2,
      "outputs": [
        {
          "output_type": "stream",
          "text": [
            "Using TensorFlow backend.\n"
          ],
          "name": "stderr"
        }
      ]
    },
    {
      "cell_type": "code",
      "metadata": {
        "id": "Ij8Z6B9_8VJv",
        "colab_type": "code",
        "colab": {}
      },
      "source": [
        "df= pd.read_csv(\"SMSSpam.csv\",sep='\\t',header=None, error_bad_lines=False)"
      ],
      "execution_count": 0,
      "outputs": []
    },
    {
      "cell_type": "code",
      "metadata": {
        "id": "Q-fpgPvO853L",
        "colab_type": "code",
        "outputId": "0705ae8f-b637-4f93-c6f8-2da88e798191",
        "colab": {
          "base_uri": "https://localhost:8080/",
          "height": 402
        }
      },
      "source": [
        "df = df.rename(  columns={0: \"label\", 1: \"msg\"})    # Rename Header\n",
        "df"
      ],
      "execution_count": 4,
      "outputs": [
        {
          "output_type": "execute_result",
          "data": {
            "text/html": [
              "<div>\n",
              "<style scoped>\n",
              "    .dataframe tbody tr th:only-of-type {\n",
              "        vertical-align: middle;\n",
              "    }\n",
              "\n",
              "    .dataframe tbody tr th {\n",
              "        vertical-align: top;\n",
              "    }\n",
              "\n",
              "    .dataframe thead th {\n",
              "        text-align: right;\n",
              "    }\n",
              "</style>\n",
              "<table border=\"1\" class=\"dataframe\">\n",
              "  <thead>\n",
              "    <tr style=\"text-align: right;\">\n",
              "      <th></th>\n",
              "      <th>label</th>\n",
              "      <th>msg</th>\n",
              "    </tr>\n",
              "  </thead>\n",
              "  <tbody>\n",
              "    <tr>\n",
              "      <th>0</th>\n",
              "      <td>ham</td>\n",
              "      <td>Go until jurong point, crazy.. Available only ...</td>\n",
              "    </tr>\n",
              "    <tr>\n",
              "      <th>1</th>\n",
              "      <td>ham</td>\n",
              "      <td>Ok lar... Joking wif u oni...</td>\n",
              "    </tr>\n",
              "    <tr>\n",
              "      <th>2</th>\n",
              "      <td>spam</td>\n",
              "      <td>Free entry in 2 a wkly comp to win FA Cup fina...</td>\n",
              "    </tr>\n",
              "    <tr>\n",
              "      <th>3</th>\n",
              "      <td>ham</td>\n",
              "      <td>U dun say so early hor... U c already then say...</td>\n",
              "    </tr>\n",
              "    <tr>\n",
              "      <th>4</th>\n",
              "      <td>ham</td>\n",
              "      <td>Nah I don't think he goes to usf, he lives aro...</td>\n",
              "    </tr>\n",
              "    <tr>\n",
              "      <th>...</th>\n",
              "      <td>...</td>\n",
              "      <td>...</td>\n",
              "    </tr>\n",
              "    <tr>\n",
              "      <th>5567</th>\n",
              "      <td>spam</td>\n",
              "      <td>This is the 2nd time we have tried 2 contact u...</td>\n",
              "    </tr>\n",
              "    <tr>\n",
              "      <th>5568</th>\n",
              "      <td>ham</td>\n",
              "      <td>Will ü b going to esplanade fr home?</td>\n",
              "    </tr>\n",
              "    <tr>\n",
              "      <th>5569</th>\n",
              "      <td>ham</td>\n",
              "      <td>Pity, * was in mood for that. So...any other s...</td>\n",
              "    </tr>\n",
              "    <tr>\n",
              "      <th>5570</th>\n",
              "      <td>ham</td>\n",
              "      <td>The guy did some bitching but I acted like i'd...</td>\n",
              "    </tr>\n",
              "    <tr>\n",
              "      <th>5571</th>\n",
              "      <td>ham</td>\n",
              "      <td>Rofl. Its true to its name</td>\n",
              "    </tr>\n",
              "  </tbody>\n",
              "</table>\n",
              "<p>5572 rows × 2 columns</p>\n",
              "</div>"
            ],
            "text/plain": [
              "     label                                                msg\n",
              "0      ham  Go until jurong point, crazy.. Available only ...\n",
              "1      ham                      Ok lar... Joking wif u oni...\n",
              "2     spam  Free entry in 2 a wkly comp to win FA Cup fina...\n",
              "3      ham  U dun say so early hor... U c already then say...\n",
              "4      ham  Nah I don't think he goes to usf, he lives aro...\n",
              "...    ...                                                ...\n",
              "5567  spam  This is the 2nd time we have tried 2 contact u...\n",
              "5568   ham               Will ü b going to esplanade fr home?\n",
              "5569   ham  Pity, * was in mood for that. So...any other s...\n",
              "5570   ham  The guy did some bitching but I acted like i'd...\n",
              "5571   ham                         Rofl. Its true to its name\n",
              "\n",
              "[5572 rows x 2 columns]"
            ]
          },
          "metadata": {
            "tags": []
          },
          "execution_count": 4
        }
      ]
    },
    {
      "cell_type": "code",
      "metadata": {
        "id": "cK22hTd7-i84",
        "colab_type": "code",
        "outputId": "f9b3f24c-2e6e-4c72-94df-d0512c2586ff",
        "colab": {
          "base_uri": "https://localhost:8080/",
          "height": 168
        }
      },
      "source": [
        "df.info()"
      ],
      "execution_count": 5,
      "outputs": [
        {
          "output_type": "stream",
          "text": [
            "<class 'pandas.core.frame.DataFrame'>\n",
            "RangeIndex: 5572 entries, 0 to 5571\n",
            "Data columns (total 2 columns):\n",
            " #   Column  Non-Null Count  Dtype \n",
            "---  ------  --------------  ----- \n",
            " 0   label   5572 non-null   object\n",
            " 1   msg     5572 non-null   object\n",
            "dtypes: object(2)\n",
            "memory usage: 87.2+ KB\n"
          ],
          "name": "stdout"
        }
      ]
    },
    {
      "cell_type": "code",
      "metadata": {
        "id": "jORfhhIXAodn",
        "colab_type": "code",
        "colab": {}
      },
      "source": [
        "df[\"label\"] = df[\"label\"].astype('category')"
      ],
      "execution_count": 0,
      "outputs": []
    },
    {
      "cell_type": "code",
      "metadata": {
        "id": "QwpT9ukFByht",
        "colab_type": "code",
        "colab": {}
      },
      "source": [
        "df[\"label\"] = df[\"label\"].cat.codes"
      ],
      "execution_count": 0,
      "outputs": []
    },
    {
      "cell_type": "code",
      "metadata": {
        "id": "_7BS2MpxD59a",
        "colab_type": "code",
        "outputId": "96396c74-2805-483d-8096-5c0d006e698a",
        "colab": {
          "base_uri": "https://localhost:8080/",
          "height": 402
        }
      },
      "source": [
        "df"
      ],
      "execution_count": 8,
      "outputs": [
        {
          "output_type": "execute_result",
          "data": {
            "text/html": [
              "<div>\n",
              "<style scoped>\n",
              "    .dataframe tbody tr th:only-of-type {\n",
              "        vertical-align: middle;\n",
              "    }\n",
              "\n",
              "    .dataframe tbody tr th {\n",
              "        vertical-align: top;\n",
              "    }\n",
              "\n",
              "    .dataframe thead th {\n",
              "        text-align: right;\n",
              "    }\n",
              "</style>\n",
              "<table border=\"1\" class=\"dataframe\">\n",
              "  <thead>\n",
              "    <tr style=\"text-align: right;\">\n",
              "      <th></th>\n",
              "      <th>label</th>\n",
              "      <th>msg</th>\n",
              "    </tr>\n",
              "  </thead>\n",
              "  <tbody>\n",
              "    <tr>\n",
              "      <th>0</th>\n",
              "      <td>0</td>\n",
              "      <td>Go until jurong point, crazy.. Available only ...</td>\n",
              "    </tr>\n",
              "    <tr>\n",
              "      <th>1</th>\n",
              "      <td>0</td>\n",
              "      <td>Ok lar... Joking wif u oni...</td>\n",
              "    </tr>\n",
              "    <tr>\n",
              "      <th>2</th>\n",
              "      <td>1</td>\n",
              "      <td>Free entry in 2 a wkly comp to win FA Cup fina...</td>\n",
              "    </tr>\n",
              "    <tr>\n",
              "      <th>3</th>\n",
              "      <td>0</td>\n",
              "      <td>U dun say so early hor... U c already then say...</td>\n",
              "    </tr>\n",
              "    <tr>\n",
              "      <th>4</th>\n",
              "      <td>0</td>\n",
              "      <td>Nah I don't think he goes to usf, he lives aro...</td>\n",
              "    </tr>\n",
              "    <tr>\n",
              "      <th>...</th>\n",
              "      <td>...</td>\n",
              "      <td>...</td>\n",
              "    </tr>\n",
              "    <tr>\n",
              "      <th>5567</th>\n",
              "      <td>1</td>\n",
              "      <td>This is the 2nd time we have tried 2 contact u...</td>\n",
              "    </tr>\n",
              "    <tr>\n",
              "      <th>5568</th>\n",
              "      <td>0</td>\n",
              "      <td>Will ü b going to esplanade fr home?</td>\n",
              "    </tr>\n",
              "    <tr>\n",
              "      <th>5569</th>\n",
              "      <td>0</td>\n",
              "      <td>Pity, * was in mood for that. So...any other s...</td>\n",
              "    </tr>\n",
              "    <tr>\n",
              "      <th>5570</th>\n",
              "      <td>0</td>\n",
              "      <td>The guy did some bitching but I acted like i'd...</td>\n",
              "    </tr>\n",
              "    <tr>\n",
              "      <th>5571</th>\n",
              "      <td>0</td>\n",
              "      <td>Rofl. Its true to its name</td>\n",
              "    </tr>\n",
              "  </tbody>\n",
              "</table>\n",
              "<p>5572 rows × 2 columns</p>\n",
              "</div>"
            ],
            "text/plain": [
              "      label                                                msg\n",
              "0         0  Go until jurong point, crazy.. Available only ...\n",
              "1         0                      Ok lar... Joking wif u oni...\n",
              "2         1  Free entry in 2 a wkly comp to win FA Cup fina...\n",
              "3         0  U dun say so early hor... U c already then say...\n",
              "4         0  Nah I don't think he goes to usf, he lives aro...\n",
              "...     ...                                                ...\n",
              "5567      1  This is the 2nd time we have tried 2 contact u...\n",
              "5568      0               Will ü b going to esplanade fr home?\n",
              "5569      0  Pity, * was in mood for that. So...any other s...\n",
              "5570      0  The guy did some bitching but I acted like i'd...\n",
              "5571      0                         Rofl. Its true to its name\n",
              "\n",
              "[5572 rows x 2 columns]"
            ]
          },
          "metadata": {
            "tags": []
          },
          "execution_count": 8
        }
      ]
    },
    {
      "cell_type": "code",
      "metadata": {
        "id": "s76mz9coD_fs",
        "colab_type": "code",
        "outputId": "3b83b3db-b4f5-4ece-afb9-decba9298ad1",
        "colab": {
          "base_uri": "https://localhost:8080/",
          "height": 34
        }
      },
      "source": [
        "msg_list = list(df.msg.values)\n",
        "len(msg_list)"
      ],
      "execution_count": 9,
      "outputs": [
        {
          "output_type": "execute_result",
          "data": {
            "text/plain": [
              "5572"
            ]
          },
          "metadata": {
            "tags": []
          },
          "execution_count": 9
        }
      ]
    },
    {
      "cell_type": "code",
      "metadata": {
        "id": "8CpXSZYNETuX",
        "colab_type": "code",
        "colab": {}
      },
      "source": [
        "import string, os\n",
        "def clean_text(txt):\n",
        "    txt = \"\".join(v for v in txt if v not in string.punctuation).lower()\n",
        "    txt = txt.encode(\"utf8\").decode(\"ascii\",'ignore')\n",
        "    return txt"
      ],
      "execution_count": 0,
      "outputs": []
    },
    {
      "cell_type": "code",
      "metadata": {
        "id": "T3A2JUdjFwJp",
        "colab_type": "code",
        "colab": {}
      },
      "source": [
        "corpus = [clean_text(x) for x in msg_list]"
      ],
      "execution_count": 0,
      "outputs": []
    },
    {
      "cell_type": "code",
      "metadata": {
        "id": "J5zE8fYYH_z-",
        "colab_type": "code",
        "outputId": "e7f42258-810f-45e3-bef2-f26cb5a29e1a",
        "colab": {
          "base_uri": "https://localhost:8080/",
          "height": 205
        }
      },
      "source": [
        "corpus[:10]"
      ],
      "execution_count": 12,
      "outputs": [
        {
          "output_type": "execute_result",
          "data": {
            "text/plain": [
              "['go until jurong point crazy available only in bugis n great world la e buffet cine there got amore wat',\n",
              " 'ok lar joking wif u oni',\n",
              " 'free entry in 2 a wkly comp to win fa cup final tkts 21st may 2005 text fa to 87121 to receive entry questionstd txt ratetcs apply 08452810075over18s',\n",
              " 'u dun say so early hor u c already then say',\n",
              " 'nah i dont think he goes to usf he lives around here though',\n",
              " 'freemsg hey there darling its been 3 weeks now and no word back id like some fun you up for it still tb ok xxx std chgs to send 150 to rcv',\n",
              " 'even my brother is not like to speak with me they treat me like aids patent',\n",
              " 'as per your request melle melle oru minnaminunginte nurungu vettam has been set as your callertune for all callers press 9 to copy your friends callertune',\n",
              " 'winner as a valued network customer you have been selected to receivea 900 prize reward to claim call 09061701461 claim code kl341 valid 12 hours only',\n",
              " 'had your mobile 11 months or more u r entitled to update to the latest colour mobiles with camera for free call the mobile update co free on 08002986030']"
            ]
          },
          "metadata": {
            "tags": []
          },
          "execution_count": 12
        }
      ]
    },
    {
      "cell_type": "code",
      "metadata": {
        "id": "nrpPX1J7IBuT",
        "colab_type": "code",
        "outputId": "146a1ec4-9d1b-461c-f4fd-a750b5e611b9",
        "colab": {
          "base_uri": "https://localhost:8080/",
          "height": 34
        }
      },
      "source": [
        "token = []\n",
        "for i in corpus:\n",
        "  token.append(i.split(\" \"))\n",
        "len(token)"
      ],
      "execution_count": 13,
      "outputs": [
        {
          "output_type": "execute_result",
          "data": {
            "text/plain": [
              "5572"
            ]
          },
          "metadata": {
            "tags": []
          },
          "execution_count": 13
        }
      ]
    },
    {
      "cell_type": "code",
      "metadata": {
        "id": "_WIUxJO1d5pC",
        "colab_type": "code",
        "outputId": "a016dbcd-7c6a-45d5-dc72-36f432ccd875",
        "colab": {
          "base_uri": "https://localhost:8080/",
          "height": 34
        }
      },
      "source": [
        "# Maximum Length of String\n",
        "\n",
        "max2 = len(max(token, key=len))\n",
        "print(max2)"
      ],
      "execution_count": 14,
      "outputs": [
        {
          "output_type": "stream",
          "text": [
            "171\n"
          ],
          "name": "stdout"
        }
      ]
    },
    {
      "cell_type": "code",
      "metadata": {
        "id": "lK6ackLgRSt-",
        "colab_type": "code",
        "outputId": "75bca2c9-3ac3-4119-8c4b-078143d05646",
        "colab": {
          "base_uri": "https://localhost:8080/",
          "height": 370
        }
      },
      "source": [
        "token[:2]"
      ],
      "execution_count": 15,
      "outputs": [
        {
          "output_type": "execute_result",
          "data": {
            "text/plain": [
              "[['go',\n",
              "  'until',\n",
              "  'jurong',\n",
              "  'point',\n",
              "  'crazy',\n",
              "  'available',\n",
              "  'only',\n",
              "  'in',\n",
              "  'bugis',\n",
              "  'n',\n",
              "  'great',\n",
              "  'world',\n",
              "  'la',\n",
              "  'e',\n",
              "  'buffet',\n",
              "  'cine',\n",
              "  'there',\n",
              "  'got',\n",
              "  'amore',\n",
              "  'wat'],\n",
              " ['ok', 'lar', 'joking', 'wif', 'u', 'oni']]"
            ]
          },
          "metadata": {
            "tags": []
          },
          "execution_count": 15
        }
      ]
    },
    {
      "cell_type": "code",
      "metadata": {
        "id": "JXZfdWZOO_Et",
        "colab_type": "code",
        "colab": {}
      },
      "source": [
        "for i in range(len(token)):\n",
        "  for j in range(len(token[i])):\n",
        "    if len(token[i])<max2:\n",
        "      c = max2-len(token[i])\n",
        "      for k in range(c):\n",
        "        token[i].append(\"Null\")\n"
      ],
      "execution_count": 0,
      "outputs": []
    },
    {
      "cell_type": "code",
      "metadata": {
        "id": "il1Ke_G8eM7r",
        "colab_type": "code",
        "outputId": "6afa0a31-f9a4-41db-8a5c-fc113a5d680a",
        "colab": {
          "base_uri": "https://localhost:8080/",
          "height": 34
        }
      },
      "source": [
        "token[0][22]"
      ],
      "execution_count": 17,
      "outputs": [
        {
          "output_type": "execute_result",
          "data": {
            "text/plain": [
              "'Null'"
            ]
          },
          "metadata": {
            "tags": []
          },
          "execution_count": 17
        }
      ]
    },
    {
      "cell_type": "code",
      "metadata": {
        "id": "42CNphzjIRuA",
        "colab_type": "code",
        "outputId": "349eace3-a42b-4205-855c-9719c415f07e",
        "colab": {
          "base_uri": "https://localhost:8080/",
          "height": 524
        }
      },
      "source": [
        "pip install --upgrade gensim"
      ],
      "execution_count": 18,
      "outputs": [
        {
          "output_type": "stream",
          "text": [
            "Requirement already up-to-date: gensim in /usr/local/lib/python3.6/dist-packages (3.8.1)\n",
            "Requirement already satisfied, skipping upgrade: six>=1.5.0 in /usr/local/lib/python3.6/dist-packages (from gensim) (1.12.0)\n",
            "Requirement already satisfied, skipping upgrade: numpy>=1.11.3 in /usr/local/lib/python3.6/dist-packages (from gensim) (1.18.2)\n",
            "Requirement already satisfied, skipping upgrade: scipy>=0.18.1 in /usr/local/lib/python3.6/dist-packages (from gensim) (1.4.1)\n",
            "Requirement already satisfied, skipping upgrade: smart-open>=1.8.1 in /usr/local/lib/python3.6/dist-packages (from gensim) (1.10.0)\n",
            "Requirement already satisfied, skipping upgrade: requests in /usr/local/lib/python3.6/dist-packages (from smart-open>=1.8.1->gensim) (2.21.0)\n",
            "Requirement already satisfied, skipping upgrade: boto3 in /usr/local/lib/python3.6/dist-packages (from smart-open>=1.8.1->gensim) (1.12.31)\n",
            "Requirement already satisfied, skipping upgrade: google-cloud-storage in /usr/local/lib/python3.6/dist-packages (from smart-open>=1.8.1->gensim) (1.18.1)\n",
            "Requirement already satisfied, skipping upgrade: chardet<3.1.0,>=3.0.2 in /usr/local/lib/python3.6/dist-packages (from requests->smart-open>=1.8.1->gensim) (3.0.4)\n",
            "Requirement already satisfied, skipping upgrade: certifi>=2017.4.17 in /usr/local/lib/python3.6/dist-packages (from requests->smart-open>=1.8.1->gensim) (2019.11.28)\n",
            "Requirement already satisfied, skipping upgrade: urllib3<1.25,>=1.21.1 in /usr/local/lib/python3.6/dist-packages (from requests->smart-open>=1.8.1->gensim) (1.24.3)\n",
            "Requirement already satisfied, skipping upgrade: idna<2.9,>=2.5 in /usr/local/lib/python3.6/dist-packages (from requests->smart-open>=1.8.1->gensim) (2.8)\n",
            "Requirement already satisfied, skipping upgrade: botocore<1.16.0,>=1.15.31 in /usr/local/lib/python3.6/dist-packages (from boto3->smart-open>=1.8.1->gensim) (1.15.31)\n",
            "Requirement already satisfied, skipping upgrade: jmespath<1.0.0,>=0.7.1 in /usr/local/lib/python3.6/dist-packages (from boto3->smart-open>=1.8.1->gensim) (0.9.5)\n",
            "Requirement already satisfied, skipping upgrade: s3transfer<0.4.0,>=0.3.0 in /usr/local/lib/python3.6/dist-packages (from boto3->smart-open>=1.8.1->gensim) (0.3.3)\n",
            "Requirement already satisfied, skipping upgrade: google-auth>=1.2.0 in /usr/local/lib/python3.6/dist-packages (from google-cloud-storage->smart-open>=1.8.1->gensim) (1.7.2)\n",
            "Requirement already satisfied, skipping upgrade: google-resumable-media<0.5.0dev,>=0.3.1 in /usr/local/lib/python3.6/dist-packages (from google-cloud-storage->smart-open>=1.8.1->gensim) (0.4.1)\n",
            "Requirement already satisfied, skipping upgrade: google-cloud-core<2.0dev,>=1.0.0 in /usr/local/lib/python3.6/dist-packages (from google-cloud-storage->smart-open>=1.8.1->gensim) (1.0.3)\n",
            "Requirement already satisfied, skipping upgrade: python-dateutil<3.0.0,>=2.1 in /usr/local/lib/python3.6/dist-packages (from botocore<1.16.0,>=1.15.31->boto3->smart-open>=1.8.1->gensim) (2.8.1)\n",
            "Requirement already satisfied, skipping upgrade: docutils<0.16,>=0.10 in /usr/local/lib/python3.6/dist-packages (from botocore<1.16.0,>=1.15.31->boto3->smart-open>=1.8.1->gensim) (0.15.2)\n",
            "Requirement already satisfied, skipping upgrade: cachetools<3.2,>=2.0.0 in /usr/local/lib/python3.6/dist-packages (from google-auth>=1.2.0->google-cloud-storage->smart-open>=1.8.1->gensim) (3.1.1)\n",
            "Requirement already satisfied, skipping upgrade: setuptools>=40.3.0 in /usr/local/lib/python3.6/dist-packages (from google-auth>=1.2.0->google-cloud-storage->smart-open>=1.8.1->gensim) (46.0.0)\n",
            "Requirement already satisfied, skipping upgrade: rsa<4.1,>=3.1.4 in /usr/local/lib/python3.6/dist-packages (from google-auth>=1.2.0->google-cloud-storage->smart-open>=1.8.1->gensim) (4.0)\n",
            "Requirement already satisfied, skipping upgrade: pyasn1-modules>=0.2.1 in /usr/local/lib/python3.6/dist-packages (from google-auth>=1.2.0->google-cloud-storage->smart-open>=1.8.1->gensim) (0.2.8)\n",
            "Requirement already satisfied, skipping upgrade: google-api-core<2.0.0dev,>=1.14.0 in /usr/local/lib/python3.6/dist-packages (from google-cloud-core<2.0dev,>=1.0.0->google-cloud-storage->smart-open>=1.8.1->gensim) (1.16.0)\n",
            "Requirement already satisfied, skipping upgrade: pyasn1>=0.1.3 in /usr/local/lib/python3.6/dist-packages (from rsa<4.1,>=3.1.4->google-auth>=1.2.0->google-cloud-storage->smart-open>=1.8.1->gensim) (0.4.8)\n",
            "Requirement already satisfied, skipping upgrade: googleapis-common-protos<2.0dev,>=1.6.0 in /usr/local/lib/python3.6/dist-packages (from google-api-core<2.0.0dev,>=1.14.0->google-cloud-core<2.0dev,>=1.0.0->google-cloud-storage->smart-open>=1.8.1->gensim) (1.51.0)\n",
            "Requirement already satisfied, skipping upgrade: pytz in /usr/local/lib/python3.6/dist-packages (from google-api-core<2.0.0dev,>=1.14.0->google-cloud-core<2.0dev,>=1.0.0->google-cloud-storage->smart-open>=1.8.1->gensim) (2018.9)\n",
            "Requirement already satisfied, skipping upgrade: protobuf>=3.4.0 in /usr/local/lib/python3.6/dist-packages (from google-api-core<2.0.0dev,>=1.14.0->google-cloud-core<2.0dev,>=1.0.0->google-cloud-storage->smart-open>=1.8.1->gensim) (3.10.0)\n"
          ],
          "name": "stdout"
        }
      ]
    },
    {
      "cell_type": "code",
      "metadata": {
        "id": "pU2nhgSlIU9E",
        "colab_type": "code",
        "colab": {}
      },
      "source": [
        "import gensim \n",
        "from gensim.models import Word2Vec "
      ],
      "execution_count": 0,
      "outputs": []
    },
    {
      "cell_type": "code",
      "metadata": {
        "id": "9D2m2ivPKpoJ",
        "colab_type": "code",
        "colab": {}
      },
      "source": [
        "model_vec = Word2Vec(token , size=150)"
      ],
      "execution_count": 0,
      "outputs": []
    },
    {
      "cell_type": "code",
      "metadata": {
        "id": "0vhrHV7qNsp6",
        "colab_type": "code",
        "outputId": "0c0e8f35-1fab-4dc5-e33b-5b2d2452cc2d",
        "colab": {
          "base_uri": "https://localhost:8080/",
          "height": 34
        }
      },
      "source": [
        "words = list(model_vec.wv.vocab)\n",
        "print(len(words))"
      ],
      "execution_count": 21,
      "outputs": [
        {
          "output_type": "stream",
          "text": [
            "1831\n"
          ],
          "name": "stdout"
        }
      ]
    },
    {
      "cell_type": "code",
      "metadata": {
        "id": "rBCfRV2CN6mt",
        "colab_type": "code",
        "outputId": "b6e88c94-6fc6-49d3-b197-5faa85b458c8",
        "colab": {
          "base_uri": "https://localhost:8080/",
          "height": 591
        }
      },
      "source": [
        "model_vec['hot']"
      ],
      "execution_count": 22,
      "outputs": [
        {
          "output_type": "stream",
          "text": [
            "/usr/local/lib/python3.6/dist-packages/ipykernel_launcher.py:1: DeprecationWarning: Call to deprecated `__getitem__` (Method will be removed in 4.0.0, use self.wv.__getitem__() instead).\n",
            "  \"\"\"Entry point for launching an IPython kernel.\n"
          ],
          "name": "stderr"
        },
        {
          "output_type": "execute_result",
          "data": {
            "text/plain": [
              "array([-0.09482092, -0.01584643,  0.22728445, -0.15311421, -0.132205  ,\n",
              "       -0.17973043,  0.02455102,  0.15952337,  0.10667264, -0.11542536,\n",
              "       -0.11910083,  0.13905571, -0.00536266, -0.06888712,  0.10106509,\n",
              "       -0.0237592 ,  0.0842792 ,  0.06422084, -0.09491048, -0.04777528,\n",
              "       -0.16265707, -0.05477571,  0.07646436,  0.01919821,  0.23431674,\n",
              "       -0.02557178, -0.15772995,  0.16725473,  0.09725241, -0.27111503,\n",
              "       -0.04189689, -0.10961535,  0.01633514,  0.11654013, -0.08180158,\n",
              "       -0.04963827, -0.21312848,  0.15141486,  0.02892336,  0.01654593,\n",
              "        0.14274947, -0.1092276 ,  0.26046365, -0.11377522, -0.02715309,\n",
              "       -0.15226363,  0.17946726, -0.01963009,  0.0741913 ,  0.1888013 ,\n",
              "        0.03675045, -0.14591813, -0.11740346, -0.08268819,  0.0922442 ,\n",
              "       -0.12982276, -0.03226266,  0.03970668,  0.01167979,  0.05551351,\n",
              "       -0.22173436, -0.22531398, -0.02791993,  0.10542528,  0.14403582,\n",
              "        0.07414305,  0.151912  ,  0.11039618, -0.05165114, -0.03374676,\n",
              "        0.15002678, -0.05924902, -0.14320658,  0.20233718,  0.24039476,\n",
              "       -0.05594162, -0.08252461,  0.05365289, -0.11173279,  0.1302272 ,\n",
              "        0.06879962,  0.10865694,  0.00666037, -0.1026757 , -0.01323134,\n",
              "        0.10374215,  0.12618457, -0.07224286,  0.33880204,  0.18850999,\n",
              "       -0.13610826, -0.16959982, -0.16498299, -0.16378573, -0.19466922,\n",
              "        0.10262531, -0.19517678,  0.09223794,  0.07068357,  0.1087075 ,\n",
              "       -0.23216625, -0.12197801,  0.3617525 ,  0.17514423, -0.22489223,\n",
              "       -0.12933809, -0.24441323, -0.15087113, -0.03321955,  0.18833092,\n",
              "        0.18298395, -0.10810537,  0.02149897, -0.03677369, -0.0145273 ,\n",
              "        0.03568898,  0.09527439, -0.05564665, -0.1410876 , -0.19944032,\n",
              "       -0.12075621,  0.11461344,  0.27956408,  0.02826415,  0.01480015,\n",
              "        0.26280174, -0.10632095,  0.04143409,  0.1918289 , -0.35386133,\n",
              "        0.01973154,  0.07305414, -0.17261316,  0.11499269,  0.01560214,\n",
              "        0.08934847,  0.1159753 , -0.03916933, -0.058225  ,  0.10741878,\n",
              "       -0.15090768,  0.18408933, -0.00836789,  0.11873929,  0.16734518,\n",
              "        0.09671473, -0.05243362, -0.02146959,  0.18171528, -0.2131911 ],\n",
              "      dtype=float32)"
            ]
          },
          "metadata": {
            "tags": []
          },
          "execution_count": 22
        }
      ]
    },
    {
      "cell_type": "code",
      "metadata": {
        "id": "n5X-Q3wpSPZ3",
        "colab_type": "code",
        "colab": {}
      },
      "source": [
        ""
      ],
      "execution_count": 0,
      "outputs": []
    },
    {
      "cell_type": "code",
      "metadata": {
        "id": "LjY9Fz7pdnO_",
        "colab_type": "code",
        "outputId": "64d0878c-e003-4e7b-ddb9-8f064f15a5aa",
        "colab": {
          "base_uri": "https://localhost:8080/",
          "height": 34
        }
      },
      "source": [
        "len(token)"
      ],
      "execution_count": 23,
      "outputs": [
        {
          "output_type": "execute_result",
          "data": {
            "text/plain": [
              "5572"
            ]
          },
          "metadata": {
            "tags": []
          },
          "execution_count": 23
        }
      ]
    },
    {
      "cell_type": "code",
      "metadata": {
        "id": "ejJdbgQBOLNX",
        "colab_type": "code",
        "colab": {}
      },
      "source": [
        "embed = np.zeros((len(token),max2,150) ,dtype = np.float32)   # Embedded Word Matrix"
      ],
      "execution_count": 0,
      "outputs": []
    },
    {
      "cell_type": "code",
      "metadata": {
        "id": "Npb0DQ53To4L",
        "colab_type": "code",
        "colab": {}
      },
      "source": [
        "for i in range (len(corpus)):\n",
        "  a = corpus[i].split(\" \")\n",
        "  for j in range(len(a)):\n",
        "    try:\n",
        "      embed[i,j] = model_vec.wv[a[j]]\n",
        "    except (KeyError):\n",
        "      #print(i,j)\n",
        "      embed[i,j] = model_vec.wv['Null']\n",
        "      pass\n",
        "    "
      ],
      "execution_count": 0,
      "outputs": []
    },
    {
      "cell_type": "code",
      "metadata": {
        "id": "IBRqq2-5XA1p",
        "colab_type": "code",
        "outputId": "c3635558-1973-455d-a75c-65c7006d3036",
        "colab": {
          "base_uri": "https://localhost:8080/",
          "height": 538
        }
      },
      "source": [
        "model_vec.wv['Null']"
      ],
      "execution_count": 26,
      "outputs": [
        {
          "output_type": "execute_result",
          "data": {
            "text/plain": [
              "array([-0.33347267,  0.4148582 , -1.0443904 ,  1.507119  , -0.08109762,\n",
              "        0.17388543,  0.4695774 ,  0.03464308, -0.52517927,  1.4613428 ,\n",
              "        1.2094736 , -0.7857763 , -0.39214864, -1.632768  , -0.26831704,\n",
              "        0.494829  ,  1.287062  ,  0.16967435,  0.00747477,  0.47027868,\n",
              "        0.15711215, -0.32841703, -0.71573246, -0.23891693, -1.2609345 ,\n",
              "        0.8339545 , -0.09980703, -1.6104051 , -0.72490764,  1.0257984 ,\n",
              "        0.7725477 , -1.7245588 ,  0.56488127, -1.08686   ,  0.7204086 ,\n",
              "       -0.24662364,  1.1934808 , -0.9030578 ,  1.4621586 , -0.10785769,\n",
              "       -1.1357414 ,  1.3071914 , -1.0659937 ,  0.5098446 ,  0.10568626,\n",
              "        1.7432134 , -0.89693284, -0.5890937 , -0.3856214 , -0.9576697 ,\n",
              "       -1.5396255 ,  0.52585006,  1.1439235 ,  0.8632741 , -0.48574376,\n",
              "        1.2838998 , -0.10133138, -0.46792683,  0.212716  , -1.1566164 ,\n",
              "       -0.60888904,  0.797638  , -0.42328483, -0.9760919 , -1.0628892 ,\n",
              "       -0.46231773, -1.7848186 , -0.9034262 , -0.35912886,  1.3633796 ,\n",
              "        0.5272674 , -1.5294797 ,  1.7910407 , -0.7933002 , -2.740359  ,\n",
              "       -0.93399763, -0.56723934,  0.02365334, -0.806553  ,  1.3744886 ,\n",
              "       -0.39528024, -1.2366016 ,  0.19380265,  1.9424659 , -0.26858875,\n",
              "        0.85756   ,  0.00965829, -0.31317416, -1.2021978 , -1.3415991 ,\n",
              "        1.1692272 , -0.08987051,  0.80251926, -0.22526138,  2.2489607 ,\n",
              "        0.9891496 , -1.0086457 , -0.38849035,  1.104566  , -0.99579483,\n",
              "        1.8133852 , -0.6312701 , -2.8720746 , -2.009119  ,  2.6807802 ,\n",
              "        2.0397587 ,  0.3582355 ,  0.9825036 ,  0.91607994, -1.5239083 ,\n",
              "       -0.5130245 , -0.8675113 ,  1.1938123 ,  0.40373856, -0.8583886 ,\n",
              "        0.47241494, -1.3047168 ,  0.8919945 ,  0.12084184, -0.22560114,\n",
              "       -0.47914895, -1.5958987 , -1.2982731 , -1.0605    , -0.41962907,\n",
              "       -0.75010014,  1.1878699 , -1.7447459 , -1.0969216 ,  0.42716932,\n",
              "        1.1680018 , -1.4135183 ,  1.4911367 , -0.6955277 , -0.58525324,\n",
              "       -1.3401754 , -0.12186044, -1.9265413 ,  1.1914688 , -0.10103339,\n",
              "        0.14042729,  0.28269202,  0.4165504 , -0.07501868, -0.7461957 ,\n",
              "       -1.8169652 , -0.60441065, -0.16984126, -1.216724  ,  0.53541654],\n",
              "      dtype=float32)"
            ]
          },
          "metadata": {
            "tags": []
          },
          "execution_count": 26
        }
      ]
    },
    {
      "cell_type": "code",
      "metadata": {
        "id": "GI0z2MsMZP9D",
        "colab_type": "code",
        "colab": {}
      },
      "source": [
        "y = df.label.values\n",
        "y = y.reshape(-1,1)\n",
        "\n",
        "x_train, x_test, y_train, y_test = train_test_split(embed, y, test_size=0.30, random_state=42)"
      ],
      "execution_count": 0,
      "outputs": []
    },
    {
      "cell_type": "code",
      "metadata": {
        "id": "i5JpV6YPg4Ft",
        "colab_type": "code",
        "outputId": "8dc08447-aecb-4f94-d54b-747650cfcd92",
        "colab": {
          "base_uri": "https://localhost:8080/",
          "height": 34
        }
      },
      "source": [
        "x_train[0].shape"
      ],
      "execution_count": 28,
      "outputs": [
        {
          "output_type": "execute_result",
          "data": {
            "text/plain": [
              "(171, 150)"
            ]
          },
          "metadata": {
            "tags": []
          },
          "execution_count": 28
        }
      ]
    },
    {
      "cell_type": "code",
      "metadata": {
        "id": "ayUpwdTnhSX8",
        "colab_type": "code",
        "outputId": "a52efac3-6db1-49ac-964c-eae281aaca6c",
        "colab": {
          "base_uri": "https://localhost:8080/",
          "height": 34
        }
      },
      "source": [
        "embed.shape"
      ],
      "execution_count": 29,
      "outputs": [
        {
          "output_type": "execute_result",
          "data": {
            "text/plain": [
              "(5572, 171, 150)"
            ]
          },
          "metadata": {
            "tags": []
          },
          "execution_count": 29
        }
      ]
    },
    {
      "cell_type": "code",
      "metadata": {
        "id": "0Ekd8tRXyhi9",
        "colab_type": "code",
        "outputId": "2df23bd5-5afa-47eb-b81e-88a1bcf05586",
        "colab": {
          "base_uri": "https://localhost:8080/",
          "height": 34
        }
      },
      "source": [
        "len(words)"
      ],
      "execution_count": 30,
      "outputs": [
        {
          "output_type": "execute_result",
          "data": {
            "text/plain": [
              "1831"
            ]
          },
          "metadata": {
            "tags": []
          },
          "execution_count": 30
        }
      ]
    },
    {
      "cell_type": "code",
      "metadata": {
        "id": "4jEeJ5yihcIJ",
        "colab_type": "code",
        "colab": {}
      },
      "source": [
        "model = Sequential()\n",
        "model.add(LSTM(150 ,return_sequences=True , dropout = 0.3))   \n",
        "model.add(Dense(units=len(words)))\n",
        "model.add(LSTM(64, dropout = 0.2))\n",
        "model.add(Dense(1,activation='sigmoid'))"
      ],
      "execution_count": 0,
      "outputs": []
    },
    {
      "cell_type": "code",
      "metadata": {
        "id": "62c0EEegh0jL",
        "colab_type": "code",
        "colab": {}
      },
      "source": [
        "model.compile(loss='binary_crossentropy', optimizer='adam', metrics=['accuracy'])"
      ],
      "execution_count": 0,
      "outputs": []
    },
    {
      "cell_type": "code",
      "metadata": {
        "id": "smWbWsT5iraP",
        "colab_type": "code",
        "outputId": "0ff274f5-bbfd-4140-d80f-c060d4673f57",
        "colab": {
          "base_uri": "https://localhost:8080/",
          "height": 286
        }
      },
      "source": [
        "model.summary()"
      ],
      "execution_count": 36,
      "outputs": [
        {
          "output_type": "stream",
          "text": [
            "Model: \"sequential_1\"\n",
            "_________________________________________________________________\n",
            "Layer (type)                 Output Shape              Param #   \n",
            "=================================================================\n",
            "lstm_1 (LSTM)                (None, 171, 150)          180600    \n",
            "_________________________________________________________________\n",
            "dense_1 (Dense)              (None, 171, 1831)         276481    \n",
            "_________________________________________________________________\n",
            "lstm_2 (LSTM)                (None, 64)                485376    \n",
            "_________________________________________________________________\n",
            "dense_2 (Dense)              (None, 1)                 65        \n",
            "=================================================================\n",
            "Total params: 942,522\n",
            "Trainable params: 942,522\n",
            "Non-trainable params: 0\n",
            "_________________________________________________________________\n"
          ],
          "name": "stdout"
        }
      ]
    },
    {
      "cell_type": "code",
      "metadata": {
        "id": "r_jiRBvC6c7c",
        "colab_type": "code",
        "outputId": "65440ad5-e69b-43e2-e6a4-b90d3d86f20d",
        "colab": {
          "base_uri": "https://localhost:8080/",
          "height": 218
        }
      },
      "source": [
        "for layer in model.layers:\n",
        "  print(layer.input_shape)\n",
        "  print(layer.output_shape)\n",
        "  print(\"___________\")"
      ],
      "execution_count": 35,
      "outputs": [
        {
          "output_type": "stream",
          "text": [
            "(None, 171, 150)\n",
            "(None, 171, 150)\n",
            "___________\n",
            "(None, 171, 150)\n",
            "(None, 171, 1831)\n",
            "___________\n",
            "(None, 171, 1831)\n",
            "(None, 64)\n",
            "___________\n",
            "(None, 64)\n",
            "(None, 1)\n",
            "___________\n"
          ],
          "name": "stdout"
        }
      ]
    },
    {
      "cell_type": "code",
      "metadata": {
        "id": "wigAre1WitTL",
        "colab_type": "code",
        "outputId": "1159f09c-6aa0-4125-e835-9957d9b98d84",
        "colab": {
          "base_uri": "https://localhost:8080/",
          "height": 554
        }
      },
      "source": [
        "model.fit(x_train, y_train,epochs=15,validation_data=(x_test, y_test) ,verbose=1)"
      ],
      "execution_count": 34,
      "outputs": [
        {
          "output_type": "stream",
          "text": [
            "Train on 3900 samples, validate on 1672 samples\n",
            "Epoch 1/15\n",
            "3900/3900 [==============================] - 153s 39ms/step - loss: 0.4114 - accuracy: 0.8659 - val_loss: 0.3943 - val_accuracy: 0.8660\n",
            "Epoch 2/15\n",
            "3900/3900 [==============================] - 150s 38ms/step - loss: 0.3953 - accuracy: 0.8659 - val_loss: 0.3950 - val_accuracy: 0.8660\n",
            "Epoch 3/15\n",
            "3900/3900 [==============================] - 150s 38ms/step - loss: 0.3947 - accuracy: 0.8659 - val_loss: 0.3954 - val_accuracy: 0.8660\n",
            "Epoch 4/15\n",
            "3900/3900 [==============================] - 152s 39ms/step - loss: 0.3952 - accuracy: 0.8659 - val_loss: 0.3940 - val_accuracy: 0.8660\n",
            "Epoch 5/15\n",
            "3900/3900 [==============================] - 148s 38ms/step - loss: 0.3944 - accuracy: 0.8659 - val_loss: 0.3976 - val_accuracy: 0.8660\n",
            "Epoch 6/15\n",
            "3900/3900 [==============================] - 146s 38ms/step - loss: 0.3961 - accuracy: 0.8659 - val_loss: 0.3944 - val_accuracy: 0.8660\n",
            "Epoch 7/15\n",
            "3900/3900 [==============================] - 151s 39ms/step - loss: 0.3952 - accuracy: 0.8659 - val_loss: 0.3954 - val_accuracy: 0.8660\n",
            "Epoch 8/15\n",
            "3900/3900 [==============================] - 147s 38ms/step - loss: 0.3957 - accuracy: 0.8656 - val_loss: 0.3953 - val_accuracy: 0.8660\n",
            "Epoch 9/15\n",
            "3900/3900 [==============================] - 148s 38ms/step - loss: 0.3938 - accuracy: 0.8659 - val_loss: 0.3939 - val_accuracy: 0.8660\n",
            "Epoch 10/15\n",
            "3900/3900 [==============================] - 154s 39ms/step - loss: 0.3951 - accuracy: 0.8659 - val_loss: 0.3940 - val_accuracy: 0.8660\n",
            "Epoch 11/15\n",
            "3900/3900 [==============================] - 154s 40ms/step - loss: 0.3952 - accuracy: 0.8659 - val_loss: 0.3951 - val_accuracy: 0.8660\n",
            "Epoch 12/15\n",
            "3900/3900 [==============================] - 153s 39ms/step - loss: 0.3949 - accuracy: 0.8659 - val_loss: 0.3940 - val_accuracy: 0.8660\n",
            "Epoch 13/15\n",
            "3900/3900 [==============================] - 152s 39ms/step - loss: 0.3952 - accuracy: 0.8659 - val_loss: 0.3939 - val_accuracy: 0.8660\n",
            "Epoch 14/15\n",
            "3900/3900 [==============================] - 149s 38ms/step - loss: 0.3952 - accuracy: 0.8659 - val_loss: 0.3939 - val_accuracy: 0.8660\n",
            "Epoch 15/15\n",
            "3900/3900 [==============================] - 149s 38ms/step - loss: 0.3948 - accuracy: 0.8659 - val_loss: 0.3941 - val_accuracy: 0.8660\n"
          ],
          "name": "stdout"
        },
        {
          "output_type": "execute_result",
          "data": {
            "text/plain": [
              "<keras.callbacks.callbacks.History at 0x7f802c949f98>"
            ]
          },
          "metadata": {
            "tags": []
          },
          "execution_count": 34
        }
      ]
    },
    {
      "cell_type": "code",
      "metadata": {
        "id": "BV8dwYWHjBbR",
        "colab_type": "code",
        "colab": {
          "base_uri": "https://localhost:8080/",
          "height": 67
        },
        "outputId": "9b829594-f5d0-404b-a3a4-cfe8cbdedff2"
      },
      "source": [
        "score, acc = model.evaluate(x_test, y_test ,verbose=1)\n",
        "print('Test score:', score)\n",
        "print('Test accuracy:', acc)"
      ],
      "execution_count": 37,
      "outputs": [
        {
          "output_type": "stream",
          "text": [
            "1672/1672 [==============================] - 14s 8ms/step\n",
            "Test score: 0.3940693359625967\n",
            "Test accuracy: 0.8660287261009216\n"
          ],
          "name": "stdout"
        }
      ]
    },
    {
      "cell_type": "code",
      "metadata": {
        "id": "ixzIvG_LwDm5",
        "colab_type": "code",
        "colab": {
          "base_uri": "https://localhost:8080/",
          "height": 185
        },
        "outputId": "89846cf3-bb52-48fa-ce4c-05443b90c421"
      },
      "source": [
        "model_vec.wv.most_similar(\"i\")"
      ],
      "execution_count": 40,
      "outputs": [
        {
          "output_type": "execute_result",
          "data": {
            "text/plain": [
              "[('how', 0.7780188322067261),\n",
              " ('me', 0.7779303193092346),\n",
              " ('ya', 0.7746725082397461),\n",
              " ('lmao', 0.7735095024108887),\n",
              " ('much', 0.7581934332847595),\n",
              " ('they', 0.757047712802887),\n",
              " ('holla', 0.755517303943634),\n",
              " ('hmmm', 0.7493034601211548),\n",
              " ('it', 0.7462847828865051),\n",
              " ('well', 0.7453324198722839)]"
            ]
          },
          "metadata": {
            "tags": []
          },
          "execution_count": 40
        }
      ]
    },
    {
      "cell_type": "code",
      "metadata": {
        "id": "oqq4ecGqxP7V",
        "colab_type": "code",
        "colab": {
          "base_uri": "https://localhost:8080/",
          "height": 34
        },
        "outputId": "9adfa502-7989-4dce-9099-1e21bc9d31c9"
      },
      "source": [
        "p = x_test[-2].reshape(1,171,-1)\n",
        "model.predict_classes(p)"
      ],
      "execution_count": 38,
      "outputs": [
        {
          "output_type": "execute_result",
          "data": {
            "text/plain": [
              "array([[0]], dtype=int32)"
            ]
          },
          "metadata": {
            "tags": []
          },
          "execution_count": 38
        }
      ]
    },
    {
      "cell_type": "code",
      "metadata": {
        "id": "MTuZlo552tFG",
        "colab_type": "code",
        "colab": {
          "base_uri": "https://localhost:8080/",
          "height": 34
        },
        "outputId": "45fdddaa-d1ec-495a-bc60-70ef082b387e"
      },
      "source": [
        "y_test[-2]"
      ],
      "execution_count": 39,
      "outputs": [
        {
          "output_type": "execute_result",
          "data": {
            "text/plain": [
              "array([1], dtype=int8)"
            ]
          },
          "metadata": {
            "tags": []
          },
          "execution_count": 39
        }
      ]
    },
    {
      "cell_type": "code",
      "metadata": {
        "id": "WBEDBJRp3HZh",
        "colab_type": "code",
        "colab": {}
      },
      "source": [
        ""
      ],
      "execution_count": 0,
      "outputs": []
    }
  ]
}